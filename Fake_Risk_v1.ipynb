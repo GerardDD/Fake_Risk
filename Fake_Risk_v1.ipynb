{
 "cells": [
  {
   "cell_type": "code",
   "execution_count": 1,
   "id": "62607e46",
   "metadata": {},
   "outputs": [],
   "source": [
    "import random as rd\n",
    "import numpy as np"
   ]
  },
  {
   "cell_type": "code",
   "execution_count": 2,
   "id": "2d8c38b8",
   "metadata": {},
   "outputs": [
    {
     "data": {
      "text/plain": [
       "'Conquer the maximum of territories at the end of the 10 turns.\\nRecruit new troops and send them to occupied territories to fight.\\nFortify your positions or you will get conquered instead!\\n'"
      ]
     },
     "execution_count": 2,
     "metadata": {},
     "output_type": "execute_result"
    }
   ],
   "source": [
    "'''FakeRisk rules'''\n",
    "'''Conquer the maximum of territories at the end of the 10 turns.\n",
    "Recruit new troops and send them to occupied territories to fight.\n",
    "Fortify your positions or you will get conquered instead!\n",
    "'''"
   ]
  },
  {
   "cell_type": "code",
   "execution_count": 58,
   "id": "aecb0199",
   "metadata": {},
   "outputs": [],
   "source": [
    "weapon = '''\n",
    "        |\n",
    "        | \\        /|\n",
    "        |  \\____  / |\n",
    "       /|__/AMMA\\/  |\n",
    "     /AMMMMMMMMMMM\\_|\n",
    " ___/AMMMMMMMMMMMMMMA\n",
    "\\   |MVKMMM/ .\\MMMMM\n",
    "\\__/MMMMMM\\  /MMMMMM---\n",
    "  |MMMMMMMMMMMMMMMMMM|  /\n",
    "  |MMMM/. \\MM.--MMMMMM\\/\n",
    "  /\\MMM\\  /MM\\  |MMMMMM   ___\n",
    " /  |MMMMMMMMM\\ |MMMMMM--/   \\-.\n",
    "/___/MMMMMMMMMM\\|M.--M/___/_|   \n",
    "     \\VMM/\\MMMMMMM\\  |      /\\ \\/\n",
    "      \\V/  \\MMMMMMM\\ |     /_  /\n",
    "        |  /MMMV'   \\|    |/ _/\n",
    "        | /              _/  /\n",
    "        |/              /| \\'\n",
    "                       /_  /\n",
    "                       /  /\n",
    "'''"
   ]
  },
  {
   "cell_type": "code",
   "execution_count": 63,
   "id": "ef6f40c2",
   "metadata": {},
   "outputs": [],
   "source": [
    "world_map = '''\n",
    "////////////////////////////::----....-:////////////////////////////////////////////////////////////\n",
    "/////////////////////::---/:-.    0  .//////////////////::-..````----:::::://///////////////////////\n",
    "//:-.`   ```````....```.. `:/-  ``.-.-://///-`` ``....``                     `````.--///////////////\n",
    "/-```.`           `-::.`..://-.-:///:://:/-` `-                             ```.` `-:///////////////\n",
    "::::://-           .:.    -///////////:-`::``.`             2                .-:/-`-/////////////////\n",
    "///////.      0         `-..///////////::.`  1                                  `-/:://///////////////\n",
    "//////-             `.--:::///////////-.``.-..`                              `::.://////////////////\n",
    "//////             -://///////////////-``---:-:--``                 3      .-.:-`://////////////////\n",
    "//////-`     ``` -://////////////////:`     `.-..--    `                    -::-:///////////////////\n",
    "///////..   ::::.://///////////////:.              .   `.````              `-///////////////////////\n",
    "///////::. `---::-::///////////////-       2        `.    `://-.   .:.   `--::://////////////////////\n",
    "/////////::--`-1//:::://///////////-                `.``-:////:` -///:`` .//:-://///////////////////\n",
    "//////////////:-:.` ``.:://////////:-`   `            ``://////:./////---:/::///////////////////////\n",
    "////////////////-       `-://////////:-::::.          `://////////////-`-/-``:://://////////////////\n",
    "////////////////            `..://///////////-         -/////////////////-`:.`-`-/:...-://////////////\n",
    "////////////////.            `://///////////-  3     `///////////////////::-:/://:::...://///////////\n",
    "/////////////////-`    -2    ://////////////.       `::./////////////////////:-.``:.-///////////////\n",
    "///////////////////-        `///////////////-      .:: -//////////////////:-.`       -//////////////\n",
    "///////////////////:      .::////////////////`    `:/:-///////////////////.       4   ://///////////\n",
    "///////////////////:     `://////////////////:  `.:///////////////////////.  `.`     .//////////////\n",
    "////////////////////    .:////////////////////:://////////////////////////::////-``.:////:-:////////\n",
    "////////////////////-  -//////////////////////////////////////////////////////////////:---://///////\n",
    "/////////////////////` ://////////////////////////////////////////////////////////////::////////////\n",
    "//////////////////////--:///////////////////////////////////////////////////////////////////////////\n",
    "//////////////////////////////////////////////////////////////////////////////////////////////////// '''"
   ]
  },
  {
   "cell_type": "code",
   "execution_count": 64,
   "id": "a3a3f07f",
   "metadata": {},
   "outputs": [],
   "source": [
    "world_map_perfected = world_map.replace('/',' ')"
   ]
  },
  {
   "cell_type": "code",
   "execution_count": 65,
   "id": "7fafbd8d",
   "metadata": {},
   "outputs": [
    {
     "name": "stdout",
     "output_type": "stream",
     "text": [
      "\n",
      "                            ::----....-:                                                            \n",
      "                     ::--- :-.    0  .                  ::-..````----::::::                         \n",
      "  :-.`   ```````....```.. `: -  ``.-.-:     -`` ``....``                     `````.--               \n",
      " -```.`           `-::.`..:  -.-:   ::  : -` `-                             ```.` `-:               \n",
      ":::::  -           .:.    -           :-`::``.`             2                .-: -`-                 \n",
      "       .      0         `-..           ::.`  1                                  `- ::                 \n",
      "      -             `.--:::           -.``.-..`                              `::.:                  \n",
      "                   -:                 -``---:-:--``                 3      .-.:-`:                  \n",
      "      -`     ``` -:                  :`     `.-..--    `                    -::-:                   \n",
      "       ..   ::::.:                 :.              .   `.````              `-                       \n",
      "       ::. `---::-::               -       2        `.    `:  -.   .:.   `--:::                      \n",
      "         ::--`-1  ::::             -                `.``-:    :` -   :`` .  :-:                     \n",
      "              :-:.` ``.::          :-`   `            ``:      :.     ---: ::                       \n",
      "                -       `-:          :-::::.          `:              -`- -``::  :                  \n",
      "                            `..:             -         -                 -`:.`-`- :...-:              \n",
      "                .            `:             -  3     `                   ::-: :  :::...:             \n",
      "                 -`    -2    :              .       `::.                     :-.``:.-               \n",
      "                   -        `               -      .:: -                  :-.`       -              \n",
      "                   :      .::                `    `: :-                   .       4   :             \n",
      "                   :     `:                  :  `.:                       .  `.`     .              \n",
      "                        .:                    ::                          ::    -``.:    :-:        \n",
      "                    -  -                                                              :---:         \n",
      "                     ` :                                                              ::            \n",
      "                      --:                                                                           \n",
      "                                                                                                     \n"
     ]
    }
   ],
   "source": [
    "print(world_map_perfected)"
   ]
  },
  {
   "cell_type": "code",
   "execution_count": 133,
   "id": "174f11d4",
   "metadata": {},
   "outputs": [],
   "source": [
    "class Risk:\n",
    "    \n",
    "    def __init__(self):\n",
    "        self.world = []\n",
    "    \n",
    "    def createWorld(self,listobj):\n",
    "        for i in listobj:\n",
    "            self.world.append(i)\n",
    "        \n",
    "    \n",
    "def main():\n",
    "    \n",
    "    newGame = Risk()\n",
    "    \n",
    "    NorthAfrica = Regions('NorthAfrica','NAf',2)\n",
    "    CentralAmerica = Regions('CentralAmerica','CA', -1)\n",
    "    NorthAfrica = Regions('NorthAfrica','NAf',2)\n",
    "    \n",
    "    newGame.createWorld([NorthAfrica,CentralAmerica,NorthAfrica])\n",
    "    "
   ]
  },
  {
   "cell_type": "code",
   "execution_count": 158,
   "id": "fdfcf7a7",
   "metadata": {},
   "outputs": [],
   "source": [
    "class Regions:\n",
    "    \n",
    "    def __init__(self, country, alias, coordinate):\n",
    "        self.name = country\n",
    "        self.alias = alias\n",
    "        self.controlled_by = None\n",
    "        self.troopsRegion = 0\n",
    "        self.coordinate = coordinate\n",
    "        \n",
    "    def isControlled(self):\n",
    "        return self.controlled_by\n",
    "    \n",
    "    def howManyTroops(self):\n",
    "        return self.troopsRegion\n",
    "    \n",
    "    def adjacent(reg1, reg2):\n",
    "        if (reg1.coordinate == reg2.coordinate + 1) or (reg1.coordinate == reg2.coordinate - 1):\n",
    "            return True\n",
    "        else:\n",
    "            return False\n",
    "        \n",
    "    def getAlias(ali,listobj):\n",
    "        for i in listobj:\n",
    "            if ali == i.alias:\n",
    "                return i        \n",
    "\n",
    "        print('Non existant alias')\n",
    "        return False\n",
    "    \n",
    "    def checkWorld(game):\n",
    "        for i in game.world:\n",
    "            print(f'the country {i.name} is controlled by {i.controlled_by}')\n",
    "            print(f'with a total of {i.troopsRegion}')\n",
    "               \n",
    "        \n",
    "        "
   ]
  },
  {
   "cell_type": "code",
   "execution_count": 148,
   "id": "7852e758",
   "metadata": {},
   "outputs": [],
   "source": [
    "NorthAmerica = Regions('NorthAmerica','NA', 0)\n",
    "CentralAmerica = Regions('CentralAmerica','CA', -1)\n",
    "NorthAfrica = Regions('NorthAfrica','NAf',2)"
   ]
  },
  {
   "cell_type": "code",
   "execution_count": 189,
   "id": "c4bbcaad",
   "metadata": {},
   "outputs": [],
   "source": [
    "class Troops:\n",
    "    \n",
    "    def __init__(self,power,owner):\n",
    "        self.power = power\n",
    "        self.owner = owner\n",
    "    \n",
    "    def attack(reg1, reg2):\n",
    "        if not adjacent(reg1,reg2):\n",
    "            print('countries ara not addjacent to each other')\n",
    "            return False\n",
    "        \n",
    "              \n",
    "        "
   ]
  },
  {
   "cell_type": "code",
   "execution_count": 198,
   "id": "d3390e77",
   "metadata": {},
   "outputs": [],
   "source": [
    "class Player:\n",
    "    \n",
    "    def __init__(self,name):\n",
    "        self.name = name\n",
    "        self.currentSel = 0\n",
    "        \n",
    "    def select(self):\n",
    "        # list just for testing! DELETE IT ON THE FINAL CODE!\n",
    "        testList = [NorthAfrica,CentralAmerica,NorthAmerica]\n",
    "   \n",
    "        while True:\n",
    "            selection = input('select a country(by alias) where your troops ara stationed')\n",
    "            if Regions.getAlias(selection,testList) != False:\n",
    "                regSelected = Regions.getAlias(selection,testList)\n",
    "                if regSelected.isControlled() != self.name:\n",
    "                    print('you do not control the selected country')\n",
    "                elif regSelected.howManyTroops() == 0:\n",
    "                    print('you do not have troops on the selected country')\n",
    "                else:\n",
    "                    self.currentSel = Troops(regSelected.howManyTroops(),regSelected.isControlled())\n",
    "                    print(f'you selected {self.currentSel.power} troops on {regSelected.name}')\n",
    "                    break \n",
    "            \n",
    "            \n",
    "    \n",
    "                    \n",
    "            \n",
    "        \n",
    "    \n",
    "        \n",
    "    "
   ]
  },
  {
   "cell_type": "code",
   "execution_count": 199,
   "id": "ed323ea4",
   "metadata": {},
   "outputs": [],
   "source": [
    "HumanPlayer = Player('Gerard')"
   ]
  },
  {
   "cell_type": "code",
   "execution_count": 200,
   "id": "6514312f",
   "metadata": {},
   "outputs": [],
   "source": [
    "NorthAfrica.controlled_by = 'Gerard'"
   ]
  },
  {
   "cell_type": "code",
   "execution_count": 201,
   "id": "a498b00d",
   "metadata": {},
   "outputs": [],
   "source": [
    "NorthAfrica.troopsRegion = 2"
   ]
  },
  {
   "cell_type": "code",
   "execution_count": 202,
   "id": "dab8f064",
   "metadata": {},
   "outputs": [
    {
     "data": {
      "text/plain": [
       "'Gerard'"
      ]
     },
     "execution_count": 202,
     "metadata": {},
     "output_type": "execute_result"
    }
   ],
   "source": [
    "NorthAfrica.isControlled()"
   ]
  },
  {
   "cell_type": "code",
   "execution_count": 203,
   "id": "ad17e4f9",
   "metadata": {},
   "outputs": [
    {
     "data": {
      "text/plain": [
       "2"
      ]
     },
     "execution_count": 203,
     "metadata": {},
     "output_type": "execute_result"
    }
   ],
   "source": [
    "NorthAfrica.howManyTroops()"
   ]
  },
  {
   "cell_type": "code",
   "execution_count": 204,
   "id": "46024422",
   "metadata": {},
   "outputs": [
    {
     "data": {
      "text/plain": [
       "'Gerard'"
      ]
     },
     "execution_count": 204,
     "metadata": {},
     "output_type": "execute_result"
    }
   ],
   "source": [
    "HumanPlayer.name"
   ]
  },
  {
   "cell_type": "code",
   "execution_count": 205,
   "id": "720768d0",
   "metadata": {},
   "outputs": [
    {
     "name": "stdout",
     "output_type": "stream",
     "text": [
      "select a country(by alias) where your troops ara stationedCA\n",
      "you do not control the selected country\n",
      "select a country(by alias) where your troops ara stationedNAf\n",
      "you selected 2 troops on NorthAfrica\n"
     ]
    }
   ],
   "source": [
    "HumanPlayer.select()"
   ]
  },
  {
   "cell_type": "code",
   "execution_count": 206,
   "id": "9d950418",
   "metadata": {},
   "outputs": [
    {
     "data": {
      "text/plain": [
       "2"
      ]
     },
     "execution_count": 206,
     "metadata": {},
     "output_type": "execute_result"
    }
   ],
   "source": [
    "HumanPlayer.currentSel.power"
   ]
  },
  {
   "cell_type": "code",
   "execution_count": null,
   "id": "2684b88d",
   "metadata": {},
   "outputs": [],
   "source": []
  }
 ],
 "metadata": {
  "kernelspec": {
   "display_name": "Python 3 (ipykernel)",
   "language": "python",
   "name": "python3"
  },
  "language_info": {
   "codemirror_mode": {
    "name": "ipython",
    "version": 3
   },
   "file_extension": ".py",
   "mimetype": "text/x-python",
   "name": "python",
   "nbconvert_exporter": "python",
   "pygments_lexer": "ipython3",
   "version": "3.9.7"
  }
 },
 "nbformat": 4,
 "nbformat_minor": 5
}
