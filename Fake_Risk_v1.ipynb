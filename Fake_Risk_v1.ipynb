{
 "cells": [
  {
   "cell_type": "code",
   "execution_count": 1,
   "id": "a306a4d4",
   "metadata": {},
   "outputs": [],
   "source": [
    "import random as rd\n",
    "import numpy as np"
   ]
  },
  {
   "cell_type": "code",
   "execution_count": 2,
   "id": "814a176b",
   "metadata": {},
   "outputs": [
    {
     "data": {
      "text/plain": [
       "'Conquer the maximum of territories at the end of the 10 turns.\\nRecruit new troops and send them to occupied territories to fight.\\nFortify your positions or you will get conquered instead!\\n'"
      ]
     },
     "execution_count": 2,
     "metadata": {},
     "output_type": "execute_result"
    }
   ],
   "source": [
    "'''FakeRisk rules'''\n",
    "'''Conquer the maximum of territories at the end of the 10 turns.\n",
    "Recruit new troops and send them to occupied territories to fight.\n",
    "Fortify your positions or you will get conquered instead!\n",
    "'''"
   ]
  },
  {
   "cell_type": "code",
   "execution_count": 58,
   "id": "8be9c974",
   "metadata": {},
   "outputs": [],
   "source": [
    "weapon = '''\n",
    "        |\n",
    "        | \\        /|\n",
    "        |  \\____  / |\n",
    "       /|__/AMMA\\/  |\n",
    "     /AMMMMMMMMMMM\\_|\n",
    " ___/AMMMMMMMMMMMMMMA\n",
    "\\   |MVKMMM/ .\\MMMMM\n",
    "\\__/MMMMMM\\  /MMMMMM---\n",
    "  |MMMMMMMMMMMMMMMMMM|  /\n",
    "  |MMMM/. \\MM.--MMMMMM\\/\n",
    "  /\\MMM\\  /MM\\  |MMMMMM   ___\n",
    " /  |MMMMMMMMM\\ |MMMMMM--/   \\-.\n",
    "/___/MMMMMMMMMM\\|M.--M/___/_|   \n",
    "     \\VMM/\\MMMMMMM\\  |      /\\ \\/\n",
    "      \\V/  \\MMMMMMM\\ |     /_  /\n",
    "        |  /MMMV'   \\|    |/ _/\n",
    "        | /              _/  /\n",
    "        |/              /| \\'\n",
    "                       /_  /\n",
    "                       /  /\n",
    "'''"
   ]
  },
  {
   "cell_type": "code",
   "execution_count": 63,
   "id": "9b5eee93",
   "metadata": {},
   "outputs": [],
   "source": [
    "world_map = '''\n",
    "////////////////////////////::----....-:////////////////////////////////////////////////////////////\n",
    "/////////////////////::---/:-.    0  .//////////////////::-..````----:::::://///////////////////////\n",
    "//:-.`   ```````....```.. `:/-  ``.-.-://///-`` ``....``                     `````.--///////////////\n",
    "/-```.`           `-::.`..://-.-:///:://:/-` `-                             ```.` `-:///////////////\n",
    "::::://-           .:.    -///////////:-`::``.`             2                .-:/-`-/////////////////\n",
    "///////.      0         `-..///////////::.`  1                                  `-/:://///////////////\n",
    "//////-             `.--:::///////////-.``.-..`                              `::.://////////////////\n",
    "//////             -://///////////////-``---:-:--``                 3      .-.:-`://////////////////\n",
    "//////-`     ``` -://////////////////:`     `.-..--    `                    -::-:///////////////////\n",
    "///////..   ::::.://///////////////:.              .   `.````              `-///////////////////////\n",
    "///////::. `---::-::///////////////-       2        `.    `://-.   .:.   `--::://////////////////////\n",
    "/////////::--`-1//:::://///////////-                `.``-:////:` -///:`` .//:-://///////////////////\n",
    "//////////////:-:.` ``.:://////////:-`   `            ``://////:./////---:/::///////////////////////\n",
    "////////////////-       `-://////////:-::::.          `://////////////-`-/-``:://://////////////////\n",
    "////////////////            `..://///////////-         -/////////////////-`:.`-`-/:...-://////////////\n",
    "////////////////.            `://///////////-  3     `///////////////////::-:/://:::...://///////////\n",
    "/////////////////-`    -2    ://////////////.       `::./////////////////////:-.``:.-///////////////\n",
    "///////////////////-        `///////////////-      .:: -//////////////////:-.`       -//////////////\n",
    "///////////////////:      .::////////////////`    `:/:-///////////////////.       4   ://///////////\n",
    "///////////////////:     `://////////////////:  `.:///////////////////////.  `.`     .//////////////\n",
    "////////////////////    .:////////////////////:://////////////////////////::////-``.:////:-:////////\n",
    "////////////////////-  -//////////////////////////////////////////////////////////////:---://///////\n",
    "/////////////////////` ://////////////////////////////////////////////////////////////::////////////\n",
    "//////////////////////--:///////////////////////////////////////////////////////////////////////////\n",
    "//////////////////////////////////////////////////////////////////////////////////////////////////// '''"
   ]
  },
  {
   "cell_type": "code",
   "execution_count": 64,
   "id": "c511c0d7",
   "metadata": {},
   "outputs": [],
   "source": [
    "world_map_perfected = world_map.replace('/',' ')"
   ]
  },
  {
   "cell_type": "code",
   "execution_count": 65,
   "id": "059cf68c",
   "metadata": {},
   "outputs": [
    {
     "name": "stdout",
     "output_type": "stream",
     "text": [
      "\n",
      "                            ::----....-:                                                            \n",
      "                     ::--- :-.    0  .                  ::-..````----::::::                         \n",
      "  :-.`   ```````....```.. `: -  ``.-.-:     -`` ``....``                     `````.--               \n",
      " -```.`           `-::.`..:  -.-:   ::  : -` `-                             ```.` `-:               \n",
      ":::::  -           .:.    -           :-`::``.`             2                .-: -`-                 \n",
      "       .      0         `-..           ::.`  1                                  `- ::                 \n",
      "      -             `.--:::           -.``.-..`                              `::.:                  \n",
      "                   -:                 -``---:-:--``                 3      .-.:-`:                  \n",
      "      -`     ``` -:                  :`     `.-..--    `                    -::-:                   \n",
      "       ..   ::::.:                 :.              .   `.````              `-                       \n",
      "       ::. `---::-::               -       2        `.    `:  -.   .:.   `--:::                      \n",
      "         ::--`-1  ::::             -                `.``-:    :` -   :`` .  :-:                     \n",
      "              :-:.` ``.::          :-`   `            ``:      :.     ---: ::                       \n",
      "                -       `-:          :-::::.          `:              -`- -``::  :                  \n",
      "                            `..:             -         -                 -`:.`-`- :...-:              \n",
      "                .            `:             -  3     `                   ::-: :  :::...:             \n",
      "                 -`    -2    :              .       `::.                     :-.``:.-               \n",
      "                   -        `               -      .:: -                  :-.`       -              \n",
      "                   :      .::                `    `: :-                   .       4   :             \n",
      "                   :     `:                  :  `.:                       .  `.`     .              \n",
      "                        .:                    ::                          ::    -``.:    :-:        \n",
      "                    -  -                                                              :---:         \n",
      "                     ` :                                                              ::            \n",
      "                      --:                                                                           \n",
      "                                                                                                     \n"
     ]
    }
   ],
   "source": [
    "print(world_map_perfected)"
   ]
  },
  {
   "cell_type": "code",
   "execution_count": 259,
   "id": "f936c80e",
   "metadata": {},
   "outputs": [],
   "source": [
    "class Risk:\n",
    "    \n",
    "    def __init__(self):\n",
    "        self.world = {}\n",
    "    \n",
    "    def createWorld(self,listobj):\n",
    "        for i in listobj:\n",
    "            self.world[i.alias] = i\n",
    "        \n",
    "    \n",
    "def main():\n",
    "    \n",
    "    newGame = Risk()\n",
    "    \n",
    "    NorthAfrica = Regions('NorthAfrica','NAf',2)\n",
    "    CentralAmerica = Regions('CentralAmerica','CA', -1)\n",
    "    NorthAfrica = Regions('NorthAfrica','NAf',2)\n",
    "    \n",
    "    newGame.createWorld([NorthAfrica,CentralAmerica,NorthAfrica])\n",
    "    "
   ]
  },
  {
   "cell_type": "code",
   "execution_count": 305,
   "id": "5b860f04",
   "metadata": {},
   "outputs": [],
   "source": [
    "class Regions:\n",
    "    \n",
    "    def __init__(self, country, alias, coordinate):\n",
    "        self.name = country\n",
    "        self.alias = alias\n",
    "        self.controlled_by = None\n",
    "        self.troopsRegion = 0\n",
    "        self.coordinate = coordinate\n",
    "        \n",
    "    def isControlled(self):\n",
    "        return self.controlled_by\n",
    "    \n",
    "    def howManyTroops(self):\n",
    "        return self.troopsRegion\n",
    "    \n",
    "    def adjacent(reg1, reg2):\n",
    "        if (reg1.coordinate == reg2.coordinate + 1) or (reg1.coordinate == reg2.coordinate - 1):\n",
    "            return True\n",
    "        else:\n",
    "            return False\n",
    "        \n",
    "    def getAlias(ali,listobj):\n",
    "        for i in listobj:\n",
    "            if ali == i:\n",
    "                return listobj[ali]        \n",
    "\n",
    "        print('Non existant alias')\n",
    "        return False\n",
    "    \n",
    "    def checkWorld(game):\n",
    "        for i in game.world:\n",
    "            print(f'the country {i.name} is controlled by {i.controlled_by}')\n",
    "            print(f'with a total of {i.troopsRegion}')\n",
    "               \n",
    "        \n",
    "        "
   ]
  },
  {
   "cell_type": "code",
   "execution_count": 294,
   "id": "17ad046b",
   "metadata": {},
   "outputs": [],
   "source": [
    "NorthAmerica = Regions('NorthAmerica','NA', 0)\n",
    "CentralAmerica = Regions('CentralAmerica','CA', -1)\n",
    "NorthAfrica = Regions('NorthAfrica','NAf',2)"
   ]
  },
  {
   "cell_type": "code",
   "execution_count": 295,
   "id": "2db0f6f9",
   "metadata": {},
   "outputs": [],
   "source": [
    "class Troops:\n",
    "    \n",
    "    def __init__(self,power,owner, location=None):\n",
    "        self.power = power\n",
    "        self.owner = owner\n",
    "        self.location = location\n",
    "    \n",
    "    # is this method necessary?\n",
    "    def attack(reg1, reg2):\n",
    "        if not adjacent(reg1,reg2):\n",
    "            print('countries ara not addjacent to each other')\n",
    "            return False\n",
    "        \n",
    "              \n",
    "        "
   ]
  },
  {
   "cell_type": "code",
   "execution_count": 296,
   "id": "1feaa762",
   "metadata": {},
   "outputs": [],
   "source": [
    "class Player:\n",
    "    \n",
    "    def __init__(self,name):\n",
    "        self.name = name\n",
    "        self.currentSel = 0 # This is Troops\n",
    "        self.currentTar = 0 # This is Regions\n",
    "        \n",
    "    def select(self):\n",
    "        # list just for testing! DELETE IT ON THE FINAL CODE! the list must be created on Risk class\n",
    "        testDict = {\"NAf\": NorthAfrica, \"CA\": CentralAmerica,\"NA\":NorthAmerica}\n",
    "   \n",
    "        while True:\n",
    "            selection = input('select a country(by alias) where your troops ara stationed')\n",
    "            if Regions.getAlias(selection,testDict) != False:\n",
    "                regSelected = Regions.getAlias(selection,testDict)\n",
    "                if regSelected.isControlled() != self.name:\n",
    "                    print('you do not control the selected country')\n",
    "                elif regSelected.howManyTroops() == 0:\n",
    "                    print('you do not have troops on the selected country')\n",
    "                else:\n",
    "                    self.currentSel = Troops(regSelected.howManyTroops(),regSelected.isControlled(),regSelected)\n",
    "                    print(f'you selected {self.currentSel.power} troops on {regSelected.name}')\n",
    "                    break\n",
    "    \n",
    "    def target(self):\n",
    "        # list just for testing! DELETE IT ON THE FINAL CODE! the list must be created on Risk class\n",
    "        testDict = {\"NAf\": NorthAfrica, \"CA\": CentralAmerica,\"NA\":NorthAmerica}\n",
    "        while True:\n",
    "            selection = input('select a country(by alias) to attack')\n",
    "            if Regions.getAlias(selection,testDict) != False:\n",
    "                regSelected = Regions.getAlias(selection,testDict)\n",
    "                if Regions.adjacent(self.currentSel.location, regSelected) == False:\n",
    "                    print('country out of reach (not adjacent)')\n",
    "                elif regSelected.isControlled() == self.name:\n",
    "                    print('you already control this country!')\n",
    "                else:\n",
    "                    self.currentTar = regSelected\n",
    "                    print(f'your next attack will target {self.currentTar.name}')\n",
    "                    break\n",
    "    \n",
    "    def attack(self):\n",
    "        #rd.randint(1,6)\n",
    "        base_attack = self.currentSel.power\n",
    "        base_defense = self.currentTar.troopsRegion\n",
    "        \n",
    "        input = 'you try to attack! (press Enter to continue)'\n",
    "        input = 'you roll a dice! (press Enter to continue)'\n",
    "        current_roll = rd.randint(1,6)\n",
    "        input = f'you rolled a {current_roll} (press Enter to continue)'\n",
    "        final_attack = current_roll + base_attack\n",
    "        print(f'Your total attack is {base_attack + current_roll} \\n')\n",
    "        \n",
    "        input = \"now it's time for the opponent to defend..(press Enter to continue)\"\n",
    "        input = \"opponent rolls a dice.. (press Enter to continue)\"\n",
    "        current_roll = rd.randint(1,6)\n",
    "        input = f' opponent rolled a {current_roll} (press Enter to continue)'\n",
    "        final_defense = base_defense + current_roll\n",
    "        print(f'opponent total defense is {base_defense + current_roll} \\n')\n",
    "        \n",
    "        if total_defense >= total_attack:\n",
    "            print('the opponent resists the attack..')\n",
    "        else:\n",
    "            print(f'you win! you conquered {self.currentTar.name}')\n",
    "        \n",
    "        \n",
    "            \n",
    "        \n",
    "        \n",
    "        \n",
    "        \n",
    "        \n",
    "        \n",
    "                \n",
    "                "
   ]
  },
  {
   "cell_type": "code",
   "execution_count": 297,
   "id": "629e21ff",
   "metadata": {},
   "outputs": [],
   "source": [
    "HumanPlayer = Player('Gerard')"
   ]
  },
  {
   "cell_type": "code",
   "execution_count": 298,
   "id": "390bd1f5",
   "metadata": {},
   "outputs": [],
   "source": [
    "NorthAfrica.controlled_by = 'Gerard'\n",
    "NorthAmerica.controlled_by = 'Trump'\n",
    "CentralAmerica.controlled_by = 'Gerard'"
   ]
  },
  {
   "cell_type": "code",
   "execution_count": 299,
   "id": "86945750",
   "metadata": {},
   "outputs": [],
   "source": [
    "NorthAfrica.troopsRegion = 2\n",
    "NorthAmerica.troopsRegion = 3\n",
    "CentralAmerica.troopsRegion = 1"
   ]
  },
  {
   "cell_type": "code",
   "execution_count": 300,
   "id": "84677fa5",
   "metadata": {},
   "outputs": [
    {
     "data": {
      "text/plain": [
       "'Gerard'"
      ]
     },
     "execution_count": 300,
     "metadata": {},
     "output_type": "execute_result"
    }
   ],
   "source": [
    "NorthAfrica.isControlled()"
   ]
  },
  {
   "cell_type": "code",
   "execution_count": 301,
   "id": "fb05da06",
   "metadata": {},
   "outputs": [
    {
     "data": {
      "text/plain": [
       "2"
      ]
     },
     "execution_count": 301,
     "metadata": {},
     "output_type": "execute_result"
    }
   ],
   "source": [
    "NorthAfrica.howManyTroops()"
   ]
  },
  {
   "cell_type": "code",
   "execution_count": 302,
   "id": "14d094a0",
   "metadata": {},
   "outputs": [
    {
     "data": {
      "text/plain": [
       "'Gerard'"
      ]
     },
     "execution_count": 302,
     "metadata": {},
     "output_type": "execute_result"
    }
   ],
   "source": [
    "HumanPlayer.name"
   ]
  },
  {
   "cell_type": "code",
   "execution_count": 306,
   "id": "662b5a10",
   "metadata": {},
   "outputs": [
    {
     "name": "stdout",
     "output_type": "stream",
     "text": [
      "select a country(by alias) where your troops ara stationedCA\n",
      "you selected 1 troops on CentralAmerica\n"
     ]
    }
   ],
   "source": [
    "HumanPlayer.select()"
   ]
  },
  {
   "cell_type": "code",
   "execution_count": 307,
   "id": "2a6cc619",
   "metadata": {},
   "outputs": [
    {
     "name": "stdout",
     "output_type": "stream",
     "text": [
      "select a country(by alias) to attackCA\n",
      "country out of reach (not adjacent)\n",
      "select a country(by alias) to attackNA\n",
      "your next attack will target NorthAmerica\n"
     ]
    }
   ],
   "source": [
    "HumanPlayer.target()"
   ]
  },
  {
   "cell_type": "code",
   "execution_count": 308,
   "id": "bd721483",
   "metadata": {},
   "outputs": [
    {
     "data": {
      "text/plain": [
       "'NorthAmerica'"
      ]
     },
     "execution_count": 308,
     "metadata": {},
     "output_type": "execute_result"
    }
   ],
   "source": [
    "HumanPlayer.currentTar.name"
   ]
  },
  {
   "cell_type": "code",
   "execution_count": null,
   "id": "168bc59b",
   "metadata": {},
   "outputs": [],
   "source": []
  }
 ],
 "metadata": {
  "kernelspec": {
   "display_name": "Python 3 (ipykernel)",
   "language": "python",
   "name": "python3"
  },
  "language_info": {
   "codemirror_mode": {
    "name": "ipython",
    "version": 3
   },
   "file_extension": ".py",
   "mimetype": "text/x-python",
   "name": "python",
   "nbconvert_exporter": "python",
   "pygments_lexer": "ipython3",
   "version": "3.9.7"
  }
 },
 "nbformat": 4,
 "nbformat_minor": 5
}
