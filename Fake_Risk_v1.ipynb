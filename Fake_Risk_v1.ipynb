{
 "cells": [
  {
   "cell_type": "code",
   "execution_count": 1,
   "id": "c23e8442",
   "metadata": {},
   "outputs": [],
   "source": [
    "import random as rd\n",
    "import numpy as np"
   ]
  },
  {
   "cell_type": "code",
   "execution_count": 2,
   "id": "cfd65210",
   "metadata": {},
   "outputs": [
    {
     "data": {
      "text/plain": [
       "'Conquer the maximum of territories at the end of the 10 turns.\\nRecruit new troops and send them to occupied territories to fight.\\nFortify your positions or you will get conquered instead!\\n'"
      ]
     },
     "execution_count": 2,
     "metadata": {},
     "output_type": "execute_result"
    }
   ],
   "source": [
    "'''FakeRisk rules'''\n",
    "'''Conquer the maximum of territories at the end of the 10 turns.\n",
    "Recruit new troops and send them to occupied territories to fight.\n",
    "Fortify your positions or you will get conquered instead!\n",
    "'''"
   ]
  },
  {
   "cell_type": "code",
   "execution_count": 3,
   "id": "aed44d47",
   "metadata": {},
   "outputs": [
    {
     "name": "stdout",
     "output_type": "stream",
     "text": [
      "\n",
      "        |\n",
      "        | \\        /|\n",
      "        |  \\____  / |\n",
      "       /|__/AMMA\\/  |\n",
      "     /AMMMMMMMMMMM\\_|\n",
      " ___/AMMMMMMMMMMMMMMA\n",
      "\\   |MVKMMM/ .\\MMMMM\n",
      "\\__/MMMMMM\\  /MMMMMM---\n",
      "  |MMMMMMMMMMMMMMMMMM|  /\n",
      "  |MMMM/. \\MM.--MMMMMM\\/\n",
      "  /\\MMM\\  /MM\\  |MMMMMM   ___\n",
      " /  |MMMMMMMMM\\ |MMMMMM--/   \\-.\n",
      "/___/MMMMMMMMMM\\|M.--M/___/_|   \n",
      "     \\VMM/\\MMMMMMM\\  |      /\\ \\/\n",
      "      \\V/  \\MMMMMMM\\ |     /_  /\n",
      "        |  /MMMV'   \\|    |/ _/\n",
      "        | /              _/  /\n",
      "        |/              /| '\n",
      "                       /_  /\n",
      "                       /  /\n",
      "\n"
     ]
    }
   ],
   "source": [
    "print('''\n",
    "        |\n",
    "        | \\        /|\n",
    "        |  \\____  / |\n",
    "       /|__/AMMA\\/  |\n",
    "     /AMMMMMMMMMMM\\_|\n",
    " ___/AMMMMMMMMMMMMMMA\n",
    "\\   |MVKMMM/ .\\MMMMM\n",
    "\\__/MMMMMM\\  /MMMMMM---\n",
    "  |MMMMMMMMMMMMMMMMMM|  /\n",
    "  |MMMM/. \\MM.--MMMMMM\\/\n",
    "  /\\MMM\\  /MM\\  |MMMMMM   ___\n",
    " /  |MMMMMMMMM\\ |MMMMMM--/   \\-.\n",
    "/___/MMMMMMMMMM\\|M.--M/___/_|   \n",
    "     \\VMM/\\MMMMMMM\\  |      /\\ \\/\n",
    "      \\V/  \\MMMMMMM\\ |     /_  /\n",
    "        |  /MMMV'   \\|    |/ _/\n",
    "        | /              _/  /\n",
    "        |/              /| \\'\n",
    "                       /_  /\n",
    "                       /  /\n",
    "''')"
   ]
  },
  {
   "cell_type": "code",
   "execution_count": 4,
   "id": "de945d9a",
   "metadata": {},
   "outputs": [],
   "source": [
    "class Regions:\n",
    "    \n",
    "    def __init__(self, country, alias):\n",
    "        self.name = country\n",
    "        self.alias = alias\n",
    "        self.controlled_by = None\n",
    "        self.troopsRegion = []\n",
    "        \n",
    "    def isControlled(self):\n",
    "        return self.controlled_by\n",
    "    \n",
    "    def whichTroops(self):\n",
    "        return self.troopsRegion"
   ]
  },
  {
   "cell_type": "code",
   "execution_count": 5,
   "id": "0955a760",
   "metadata": {},
   "outputs": [],
   "source": [
    "NorthAmerica = Regions('NorthAmerica','NA')"
   ]
  },
  {
   "cell_type": "code",
   "execution_count": 6,
   "id": "6ccbacaf",
   "metadata": {},
   "outputs": [
    {
     "data": {
      "text/plain": [
       "[]"
      ]
     },
     "execution_count": 6,
     "metadata": {},
     "output_type": "execute_result"
    }
   ],
   "source": [
    "NorthAmerica.whichTroops()"
   ]
  },
  {
   "cell_type": "code",
   "execution_count": 7,
   "id": "f37dc960",
   "metadata": {},
   "outputs": [],
   "source": [
    "class Troops:\n",
    "    \n",
    "    def __init__(self):\n",
    "        self.power\n",
    "        self.owner\n",
    "        "
   ]
  },
  {
   "cell_type": "code",
   "execution_count": null,
   "id": "51af7b86",
   "metadata": {},
   "outputs": [],
   "source": []
  }
 ],
 "metadata": {
  "kernelspec": {
   "display_name": "Python 3 (ipykernel)",
   "language": "python",
   "name": "python3"
  },
  "language_info": {
   "codemirror_mode": {
    "name": "ipython",
    "version": 3
   },
   "file_extension": ".py",
   "mimetype": "text/x-python",
   "name": "python",
   "nbconvert_exporter": "python",
   "pygments_lexer": "ipython3",
   "version": "3.9.7"
  }
 },
 "nbformat": 4,
 "nbformat_minor": 5
}
