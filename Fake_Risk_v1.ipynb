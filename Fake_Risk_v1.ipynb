{
 "cells": [
  {
   "cell_type": "code",
   "execution_count": 1,
   "id": "f9ff8cac",
   "metadata": {},
   "outputs": [],
   "source": [
    "import random as rd\n",
    "import numpy as np"
   ]
  },
  {
   "cell_type": "code",
   "execution_count": 2,
   "id": "dae71a96",
   "metadata": {},
   "outputs": [
    {
     "data": {
      "text/plain": [
       "'Conquer the maximum of territories at the end of the 10 turns.\\nRecruit new troops and send them to occupied territories to fight.\\nFortify your positions or you will get conquered instead!\\n'"
      ]
     },
     "execution_count": 2,
     "metadata": {},
     "output_type": "execute_result"
    }
   ],
   "source": [
    "'''FakeRisk rules'''\n",
    "'''Conquer the maximum of territories at the end of the 10 turns.\n",
    "Recruit new troops and send them to occupied territories to fight.\n",
    "Fortify your positions or you will get conquered instead!\n",
    "'''"
   ]
  },
  {
   "cell_type": "code",
   "execution_count": 58,
   "id": "b6247a2c",
   "metadata": {},
   "outputs": [],
   "source": [
    "weapon = '''\n",
    "        |\n",
    "        | \\        /|\n",
    "        |  \\____  / |\n",
    "       /|__/AMMA\\/  |\n",
    "     /AMMMMMMMMMMM\\_|\n",
    " ___/AMMMMMMMMMMMMMMA\n",
    "\\   |MVKMMM/ .\\MMMMM\n",
    "\\__/MMMMMM\\  /MMMMMM---\n",
    "  |MMMMMMMMMMMMMMMMMM|  /\n",
    "  |MMMM/. \\MM.--MMMMMM\\/\n",
    "  /\\MMM\\  /MM\\  |MMMMMM   ___\n",
    " /  |MMMMMMMMM\\ |MMMMMM--/   \\-.\n",
    "/___/MMMMMMMMMM\\|M.--M/___/_|   \n",
    "     \\VMM/\\MMMMMMM\\  |      /\\ \\/\n",
    "      \\V/  \\MMMMMMM\\ |     /_  /\n",
    "        |  /MMMV'   \\|    |/ _/\n",
    "        | /              _/  /\n",
    "        |/              /| \\'\n",
    "                       /_  /\n",
    "                       /  /\n",
    "'''"
   ]
  },
  {
   "cell_type": "code",
   "execution_count": 63,
   "id": "2dff4d91",
   "metadata": {},
   "outputs": [],
   "source": [
    "world_map = '''\n",
    "////////////////////////////::----....-:////////////////////////////////////////////////////////////\n",
    "/////////////////////::---/:-.    0  .//////////////////::-..````----:::::://///////////////////////\n",
    "//:-.`   ```````....```.. `:/-  ``.-.-://///-`` ``....``                     `````.--///////////////\n",
    "/-```.`           `-::.`..://-.-:///:://:/-` `-                             ```.` `-:///////////////\n",
    "::::://-           .:.    -///////////:-`::``.`             2                .-:/-`-/////////////////\n",
    "///////.      0         `-..///////////::.`  1                                  `-/:://///////////////\n",
    "//////-             `.--:::///////////-.``.-..`                              `::.://////////////////\n",
    "//////             -://///////////////-``---:-:--``                 3      .-.:-`://////////////////\n",
    "//////-`     ``` -://////////////////:`     `.-..--    `                    -::-:///////////////////\n",
    "///////..   ::::.://///////////////:.              .   `.````              `-///////////////////////\n",
    "///////::. `---::-::///////////////-       2        `.    `://-.   .:.   `--::://////////////////////\n",
    "/////////::--`-1//:::://///////////-                `.``-:////:` -///:`` .//:-://///////////////////\n",
    "//////////////:-:.` ``.:://////////:-`   `            ``://////:./////---:/::///////////////////////\n",
    "////////////////-       `-://////////:-::::.          `://////////////-`-/-``:://://////////////////\n",
    "////////////////            `..://///////////-         -/////////////////-`:.`-`-/:...-://////////////\n",
    "////////////////.            `://///////////-  3     `///////////////////::-:/://:::...://///////////\n",
    "/////////////////-`    -2    ://////////////.       `::./////////////////////:-.``:.-///////////////\n",
    "///////////////////-        `///////////////-      .:: -//////////////////:-.`       -//////////////\n",
    "///////////////////:      .::////////////////`    `:/:-///////////////////.       4   ://///////////\n",
    "///////////////////:     `://////////////////:  `.:///////////////////////.  `.`     .//////////////\n",
    "////////////////////    .:////////////////////:://////////////////////////::////-``.:////:-:////////\n",
    "////////////////////-  -//////////////////////////////////////////////////////////////:---://///////\n",
    "/////////////////////` ://////////////////////////////////////////////////////////////::////////////\n",
    "//////////////////////--:///////////////////////////////////////////////////////////////////////////\n",
    "//////////////////////////////////////////////////////////////////////////////////////////////////// '''"
   ]
  },
  {
   "cell_type": "code",
   "execution_count": 64,
   "id": "e081eee9",
   "metadata": {},
   "outputs": [],
   "source": [
    "world_map_perfected = world_map.replace('/',' ')"
   ]
  },
  {
   "cell_type": "code",
   "execution_count": 65,
   "id": "2ef096b9",
   "metadata": {},
   "outputs": [
    {
     "name": "stdout",
     "output_type": "stream",
     "text": [
      "\n",
      "                            ::----....-:                                                            \n",
      "                     ::--- :-.    0  .                  ::-..````----::::::                         \n",
      "  :-.`   ```````....```.. `: -  ``.-.-:     -`` ``....``                     `````.--               \n",
      " -```.`           `-::.`..:  -.-:   ::  : -` `-                             ```.` `-:               \n",
      ":::::  -           .:.    -           :-`::``.`             2                .-: -`-                 \n",
      "       .      0         `-..           ::.`  1                                  `- ::                 \n",
      "      -             `.--:::           -.``.-..`                              `::.:                  \n",
      "                   -:                 -``---:-:--``                 3      .-.:-`:                  \n",
      "      -`     ``` -:                  :`     `.-..--    `                    -::-:                   \n",
      "       ..   ::::.:                 :.              .   `.````              `-                       \n",
      "       ::. `---::-::               -       2        `.    `:  -.   .:.   `--:::                      \n",
      "         ::--`-1  ::::             -                `.``-:    :` -   :`` .  :-:                     \n",
      "              :-:.` ``.::          :-`   `            ``:      :.     ---: ::                       \n",
      "                -       `-:          :-::::.          `:              -`- -``::  :                  \n",
      "                            `..:             -         -                 -`:.`-`- :...-:              \n",
      "                .            `:             -  3     `                   ::-: :  :::...:             \n",
      "                 -`    -2    :              .       `::.                     :-.``:.-               \n",
      "                   -        `               -      .:: -                  :-.`       -              \n",
      "                   :      .::                `    `: :-                   .       4   :             \n",
      "                   :     `:                  :  `.:                       .  `.`     .              \n",
      "                        .:                    ::                          ::    -``.:    :-:        \n",
      "                    -  -                                                              :---:         \n",
      "                     ` :                                                              ::            \n",
      "                      --:                                                                           \n",
      "                                                                                                     \n"
     ]
    }
   ],
   "source": [
    "print(world_map_perfected)"
   ]
  },
  {
   "cell_type": "code",
   "execution_count": 133,
   "id": "694b314c",
   "metadata": {},
   "outputs": [],
   "source": [
    "class Risk:\n",
    "    \n",
    "    def __init__(self):\n",
    "        self.world = []\n",
    "    \n",
    "    def createWorld(self,listobj):\n",
    "        for i in listobj:\n",
    "            self.world.append(i)\n",
    "        \n",
    "    \n",
    "def main():\n",
    "    \n",
    "    newGame = Risk()\n",
    "    \n",
    "    NorthAfrica = Regions('NorthAfrica','NAf',2)\n",
    "    CentralAmerica = Regions('CentralAmerica','CA', -1)\n",
    "    NorthAfrica = Regions('NorthAfrica','NAf',2)\n",
    "    \n",
    "    newGame.createWorld([NorthAfrica,CentralAmerica,NorthAfrica])\n",
    "    "
   ]
  },
  {
   "cell_type": "code",
   "execution_count": 158,
   "id": "fcbb2bfc",
   "metadata": {},
   "outputs": [],
   "source": [
    "class Regions:\n",
    "    \n",
    "    def __init__(self, country, alias, coordinate):\n",
    "        self.name = country\n",
    "        self.alias = alias\n",
    "        self.controlled_by = None\n",
    "        self.troopsRegion = 0\n",
    "        self.coordinate = coordinate\n",
    "        \n",
    "    def isControlled(self):\n",
    "        return self.controlled_by\n",
    "    \n",
    "    def howManyTroops(self):\n",
    "        return self.troopsRegion\n",
    "    \n",
    "    def adjacent(reg1, reg2):\n",
    "        if (reg1.coordinate == reg2.coordinate + 1) or (reg1.coordinate == reg2.coordinate - 1):\n",
    "            return True\n",
    "        else:\n",
    "            return False\n",
    "        \n",
    "    def getAlias(ali,listobj):\n",
    "        for i in listobj:\n",
    "            if ali == i.alias:\n",
    "                return i        \n",
    "\n",
    "        print('Non existant alias')\n",
    "        return False\n",
    "    \n",
    "    def checkWorld(game):\n",
    "        for i in game.world:\n",
    "            print(f'the country {i.name} is controlled by {i.controlled_by}')\n",
    "            print(f'with a total of {i.troopsRegion}')\n",
    "               \n",
    "        \n",
    "        "
   ]
  },
  {
   "cell_type": "code",
   "execution_count": 148,
   "id": "c7c2e243",
   "metadata": {},
   "outputs": [],
   "source": [
    "NorthAmerica = Regions('NorthAmerica','NA', 0)\n",
    "CentralAmerica = Regions('CentralAmerica','CA', -1)\n",
    "NorthAfrica = Regions('NorthAfrica','NAf',2)"
   ]
  },
  {
   "cell_type": "code",
   "execution_count": 228,
   "id": "60f63f7e",
   "metadata": {},
   "outputs": [],
   "source": [
    "class Troops:\n",
    "    \n",
    "    def __init__(self,power,owner, location=None):\n",
    "        self.power = power\n",
    "        self.owner = owner\n",
    "        self.location = location\n",
    "    \n",
    "    # is this method necessary?\n",
    "    def attack(reg1, reg2):\n",
    "        if not adjacent(reg1,reg2):\n",
    "            print('countries ara not addjacent to each other')\n",
    "            return False\n",
    "        \n",
    "              \n",
    "        "
   ]
  },
  {
   "cell_type": "code",
   "execution_count": 247,
   "id": "6b8d713c",
   "metadata": {},
   "outputs": [],
   "source": [
    "class Player:\n",
    "    \n",
    "    def __init__(self,name):\n",
    "        self.name = name\n",
    "        self.currentSel = 0 # This is Troops\n",
    "        self.currentTar = 0 # This is Regions\n",
    "        \n",
    "    def select(self):\n",
    "        # list just for testing! DELETE IT ON THE FINAL CODE! the list must be created on Risk class\n",
    "        testList = [NorthAfrica,CentralAmerica,NorthAmerica]\n",
    "   \n",
    "        while True:\n",
    "            selection = input('select a country(by alias) where your troops ara stationed')\n",
    "            if Regions.getAlias(selection,testList) != False:\n",
    "                regSelected = Regions.getAlias(selection,testList)\n",
    "                if regSelected.isControlled() != self.name:\n",
    "                    print('you do not control the selected country')\n",
    "                elif regSelected.howManyTroops() == 0:\n",
    "                    print('you do not have troops on the selected country')\n",
    "                else:\n",
    "                    self.currentSel = Troops(regSelected.howManyTroops(),regSelected.isControlled(),regSelected)\n",
    "                    print(f'you selected {self.currentSel.power} troops on {regSelected.name}')\n",
    "                    break\n",
    "    \n",
    "    def target(self):\n",
    "        # list just for testing! DELETE IT ON THE FINAL CODE! the list must be created on Risk class\n",
    "        testList = [NorthAfrica,CentralAmerica,NorthAmerica]\n",
    "        while True:\n",
    "            selection = input('select a country(by alias) to attack')\n",
    "            if Regions.getAlias(selection,testList) != False:\n",
    "                regSelected = Regions.getAlias(selection,testList)\n",
    "                if Regions.adjacent(self.currentSel.location, regSelected) == False:\n",
    "                    print('country out of reach (not adjacent)')\n",
    "                elif regSelected.isControlled() == self.name:\n",
    "                    print('you already control this country!')\n",
    "                else:\n",
    "                    self.currentTar = regSelected\n",
    "                    print(f'your next attack will target {self.currentTar.name}')\n",
    "                    break\n",
    "                \n",
    "                "
   ]
  },
  {
   "cell_type": "code",
   "execution_count": 248,
   "id": "e7caca00",
   "metadata": {},
   "outputs": [],
   "source": [
    "HumanPlayer = Player('Gerard')"
   ]
  },
  {
   "cell_type": "code",
   "execution_count": 249,
   "id": "6f58912b",
   "metadata": {},
   "outputs": [],
   "source": [
    "NorthAfrica.controlled_by = 'Gerard'\n",
    "NorthAmerica.controlled_by = 'Trump'\n",
    "CentralAmerica.controlled_by = 'Gerard'"
   ]
  },
  {
   "cell_type": "code",
   "execution_count": 250,
   "id": "41a93fa1",
   "metadata": {},
   "outputs": [],
   "source": [
    "NorthAfrica.troopsRegion = 2\n",
    "NorthAmerica.troopsRegion = 3\n",
    "CentralAmerica.troopsRegion = 1"
   ]
  },
  {
   "cell_type": "code",
   "execution_count": 251,
   "id": "064f1618",
   "metadata": {},
   "outputs": [
    {
     "data": {
      "text/plain": [
       "'Gerard'"
      ]
     },
     "execution_count": 251,
     "metadata": {},
     "output_type": "execute_result"
    }
   ],
   "source": [
    "NorthAfrica.isControlled()"
   ]
  },
  {
   "cell_type": "code",
   "execution_count": 252,
   "id": "ae6fd065",
   "metadata": {},
   "outputs": [
    {
     "data": {
      "text/plain": [
       "2"
      ]
     },
     "execution_count": 252,
     "metadata": {},
     "output_type": "execute_result"
    }
   ],
   "source": [
    "NorthAfrica.howManyTroops()"
   ]
  },
  {
   "cell_type": "code",
   "execution_count": 253,
   "id": "df2149ac",
   "metadata": {},
   "outputs": [
    {
     "data": {
      "text/plain": [
       "'Gerard'"
      ]
     },
     "execution_count": 253,
     "metadata": {},
     "output_type": "execute_result"
    }
   ],
   "source": [
    "HumanPlayer.name"
   ]
  },
  {
   "cell_type": "code",
   "execution_count": 254,
   "id": "65d18f72",
   "metadata": {},
   "outputs": [
    {
     "name": "stdout",
     "output_type": "stream",
     "text": [
      "select a country(by alias) where your troops ara stationedCA\n",
      "you selected 1 troops on CentralAmerica\n"
     ]
    }
   ],
   "source": [
    "HumanPlayer.select()"
   ]
  },
  {
   "cell_type": "code",
   "execution_count": 255,
   "id": "9a40ce7d",
   "metadata": {},
   "outputs": [
    {
     "name": "stdout",
     "output_type": "stream",
     "text": [
      "select a country(by alias) to attackNAf\n",
      "country out of reach (not adjacent)\n",
      "select a country(by alias) to attackNA\n",
      "your next attack will target NorthAmerica\n"
     ]
    }
   ],
   "source": [
    "HumanPlayer.target()"
   ]
  },
  {
   "cell_type": "code",
   "execution_count": 258,
   "id": "bd3306c1",
   "metadata": {},
   "outputs": [
    {
     "data": {
      "text/plain": [
       "'NorthAmerica'"
      ]
     },
     "execution_count": 258,
     "metadata": {},
     "output_type": "execute_result"
    }
   ],
   "source": [
    "HumanPlayer.currentTar.name"
   ]
  },
  {
   "cell_type": "code",
   "execution_count": null,
   "id": "8b477945",
   "metadata": {},
   "outputs": [],
   "source": []
  }
 ],
 "metadata": {
  "kernelspec": {
   "display_name": "Python 3 (ipykernel)",
   "language": "python",
   "name": "python3"
  },
  "language_info": {
   "codemirror_mode": {
    "name": "ipython",
    "version": 3
   },
   "file_extension": ".py",
   "mimetype": "text/x-python",
   "name": "python",
   "nbconvert_exporter": "python",
   "pygments_lexer": "ipython3",
   "version": "3.9.7"
  }
 },
 "nbformat": 4,
 "nbformat_minor": 5
}
