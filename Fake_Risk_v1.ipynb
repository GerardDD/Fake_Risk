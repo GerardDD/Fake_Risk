{
 "cells": [
  {
   "cell_type": "code",
   "execution_count": 1,
   "id": "19edad42",
   "metadata": {},
   "outputs": [],
   "source": [
    "import random as rd\n",
    "import numpy as np"
   ]
  },
  {
   "cell_type": "code",
   "execution_count": 2,
   "id": "b6a95f62",
   "metadata": {},
   "outputs": [
    {
     "data": {
      "text/plain": [
       "'Conquer the maximum of territories at the end of the 10 turns.\\nRecruit new troops and send them to occupied territories to fight.\\nFortify your positions or you will get conquered instead!\\n'"
      ]
     },
     "execution_count": 2,
     "metadata": {},
     "output_type": "execute_result"
    }
   ],
   "source": [
    "'''FakeRisk rules'''\n",
    "'''Conquer the maximum of territories at the end of the 10 turns.\n",
    "Recruit new troops and send them to occupied territories to fight.\n",
    "Fortify your positions or you will get conquered instead!\n",
    "'''"
   ]
  },
  {
   "cell_type": "code",
   "execution_count": 58,
   "id": "9fe6c778",
   "metadata": {},
   "outputs": [],
   "source": [
    "weapon = '''\n",
    "        |\n",
    "        | \\        /|\n",
    "        |  \\____  / |\n",
    "       /|__/AMMA\\/  |\n",
    "     /AMMMMMMMMMMM\\_|\n",
    " ___/AMMMMMMMMMMMMMMA\n",
    "\\   |MVKMMM/ .\\MMMMM\n",
    "\\__/MMMMMM\\  /MMMMMM---\n",
    "  |MMMMMMMMMMMMMMMMMM|  /\n",
    "  |MMMM/. \\MM.--MMMMMM\\/\n",
    "  /\\MMM\\  /MM\\  |MMMMMM   ___\n",
    " /  |MMMMMMMMM\\ |MMMMMM--/   \\-.\n",
    "/___/MMMMMMMMMM\\|M.--M/___/_|   \n",
    "     \\VMM/\\MMMMMMM\\  |      /\\ \\/\n",
    "      \\V/  \\MMMMMMM\\ |     /_  /\n",
    "        |  /MMMV'   \\|    |/ _/\n",
    "        | /              _/  /\n",
    "        |/              /| \\'\n",
    "                       /_  /\n",
    "                       /  /\n",
    "'''"
   ]
  },
  {
   "cell_type": "code",
   "execution_count": 63,
   "id": "e92a505b",
   "metadata": {},
   "outputs": [],
   "source": [
    "world_map = '''\n",
    "////////////////////////////::----....-:////////////////////////////////////////////////////////////\n",
    "/////////////////////::---/:-.    0  .//////////////////::-..````----:::::://///////////////////////\n",
    "//:-.`   ```````....```.. `:/-  ``.-.-://///-`` ``....``                     `````.--///////////////\n",
    "/-```.`           `-::.`..://-.-:///:://:/-` `-                             ```.` `-:///////////////\n",
    "::::://-           .:.    -///////////:-`::``.`             2                .-:/-`-/////////////////\n",
    "///////.      0         `-..///////////::.`  1                                  `-/:://///////////////\n",
    "//////-             `.--:::///////////-.``.-..`                              `::.://////////////////\n",
    "//////             -://///////////////-``---:-:--``                 3      .-.:-`://////////////////\n",
    "//////-`     ``` -://////////////////:`     `.-..--    `                    -::-:///////////////////\n",
    "///////..   ::::.://///////////////:.              .   `.````              `-///////////////////////\n",
    "///////::. `---::-::///////////////-       2        `.    `://-.   .:.   `--::://////////////////////\n",
    "/////////::--`-1//:::://///////////-                `.``-:////:` -///:`` .//:-://///////////////////\n",
    "//////////////:-:.` ``.:://////////:-`   `            ``://////:./////---:/::///////////////////////\n",
    "////////////////-       `-://////////:-::::.          `://////////////-`-/-``:://://////////////////\n",
    "////////////////            `..://///////////-         -/////////////////-`:.`-`-/:...-://////////////\n",
    "////////////////.            `://///////////-  3     `///////////////////::-:/://:::...://///////////\n",
    "/////////////////-`    -2    ://////////////.       `::./////////////////////:-.``:.-///////////////\n",
    "///////////////////-        `///////////////-      .:: -//////////////////:-.`       -//////////////\n",
    "///////////////////:      .::////////////////`    `:/:-///////////////////.       4   ://///////////\n",
    "///////////////////:     `://////////////////:  `.:///////////////////////.  `.`     .//////////////\n",
    "////////////////////    .:////////////////////:://////////////////////////::////-``.:////:-:////////\n",
    "////////////////////-  -//////////////////////////////////////////////////////////////:---://///////\n",
    "/////////////////////` ://////////////////////////////////////////////////////////////::////////////\n",
    "//////////////////////--:///////////////////////////////////////////////////////////////////////////\n",
    "//////////////////////////////////////////////////////////////////////////////////////////////////// '''"
   ]
  },
  {
   "cell_type": "code",
   "execution_count": 64,
   "id": "fb601d73",
   "metadata": {},
   "outputs": [],
   "source": [
    "world_map_perfected = world_map.replace('/',' ')"
   ]
  },
  {
   "cell_type": "code",
   "execution_count": 65,
   "id": "2de24248",
   "metadata": {},
   "outputs": [
    {
     "name": "stdout",
     "output_type": "stream",
     "text": [
      "\n",
      "                            ::----....-:                                                            \n",
      "                     ::--- :-.    0  .                  ::-..````----::::::                         \n",
      "  :-.`   ```````....```.. `: -  ``.-.-:     -`` ``....``                     `````.--               \n",
      " -```.`           `-::.`..:  -.-:   ::  : -` `-                             ```.` `-:               \n",
      ":::::  -           .:.    -           :-`::``.`             2                .-: -`-                 \n",
      "       .      0         `-..           ::.`  1                                  `- ::                 \n",
      "      -             `.--:::           -.``.-..`                              `::.:                  \n",
      "                   -:                 -``---:-:--``                 3      .-.:-`:                  \n",
      "      -`     ``` -:                  :`     `.-..--    `                    -::-:                   \n",
      "       ..   ::::.:                 :.              .   `.````              `-                       \n",
      "       ::. `---::-::               -       2        `.    `:  -.   .:.   `--:::                      \n",
      "         ::--`-1  ::::             -                `.``-:    :` -   :`` .  :-:                     \n",
      "              :-:.` ``.::          :-`   `            ``:      :.     ---: ::                       \n",
      "                -       `-:          :-::::.          `:              -`- -``::  :                  \n",
      "                            `..:             -         -                 -`:.`-`- :...-:              \n",
      "                .            `:             -  3     `                   ::-: :  :::...:             \n",
      "                 -`    -2    :              .       `::.                     :-.``:.-               \n",
      "                   -        `               -      .:: -                  :-.`       -              \n",
      "                   :      .::                `    `: :-                   .       4   :             \n",
      "                   :     `:                  :  `.:                       .  `.`     .              \n",
      "                        .:                    ::                          ::    -``.:    :-:        \n",
      "                    -  -                                                              :---:         \n",
      "                     ` :                                                              ::            \n",
      "                      --:                                                                           \n",
      "                                                                                                     \n"
     ]
    }
   ],
   "source": [
    "print(world_map_perfected)"
   ]
  },
  {
   "cell_type": "code",
   "execution_count": 96,
   "id": "6be24239",
   "metadata": {},
   "outputs": [],
   "source": [
    "class Risk:\n",
    "    \n",
    "    def __init__(self):\n",
    "        self.world = []\n",
    "    \n",
    "    def createWorld(self,listobj):\n",
    "        for i in listobj:\n",
    "            self.world.append(i)\n",
    "        \n",
    "    \n",
    "def main():\n",
    "    \n",
    "    newGame = Risk()\n",
    "    \n",
    "    NorthAfrica = Regions('NorthAfrica','NAf',2)\n",
    "    CentralAmerica = Regions('CentralAmerica','CA', -1)\n",
    "    NorthAfrica = Regions('NorthAfrica','NAf',2)\n",
    "    \n",
    "    newGame.createWorld([NorthAfrica,CentralAmerica,NorthAfrica])\n",
    "    "
   ]
  },
  {
   "cell_type": "code",
   "execution_count": 87,
   "id": "ea5424a6",
   "metadata": {},
   "outputs": [],
   "source": [
    "class Regions:\n",
    "    \n",
    "    def __init__(self, country, alias, coordinate):\n",
    "        self.name = country\n",
    "        self.alias = alias\n",
    "        self.controlled_by = None\n",
    "        self.troopsRegion = 0\n",
    "        self.coordinate = coordinate\n",
    "        \n",
    "    def isControlled(self):\n",
    "        return self.controlled_by\n",
    "    \n",
    "    def howManyTroops(self):\n",
    "        return self.troopsRegion\n",
    "    \n",
    "    def adjacent(reg1, reg2):\n",
    "        if (reg1.coordinate == reg2.coordinate + 1) or (reg1.coordinate == reg2.coordinate - 1):\n",
    "            return True\n",
    "        else:\n",
    "            return False\n",
    "        \n",
    "    def getAlias(ali,listobj):\n",
    "        for i in listobj:\n",
    "            if ali == i.alias:\n",
    "                return i\n",
    "            else:\n",
    "                print('Non existant alias')\n",
    "                return False\n",
    "    \n",
    "    def checkWorld(game):\n",
    "        for i in game.world:\n",
    "            \n",
    "        \n",
    "        \n",
    "            \n",
    "            \n",
    "        \n",
    "        \n",
    "        \n",
    "        "
   ]
  },
  {
   "cell_type": "code",
   "execution_count": 83,
   "id": "deefa17f",
   "metadata": {},
   "outputs": [],
   "source": [
    "NorthAmerica = Regions('NorthAmerica','NA', 0)\n",
    "CentralAmerica = Regions('CentralAmerica','CA', -1)\n",
    "NorthAfrica = Regions('NorthAfrica','NAf',2)"
   ]
  },
  {
   "cell_type": "code",
   "execution_count": 85,
   "id": "44008d5b",
   "metadata": {},
   "outputs": [
    {
     "data": {
      "text/plain": [
       "False"
      ]
     },
     "execution_count": 85,
     "metadata": {},
     "output_type": "execute_result"
    }
   ],
   "source": [
    "Regions.adjacent(NorthAmerica,NorthAfrica)"
   ]
  },
  {
   "cell_type": "code",
   "execution_count": 89,
   "id": "adf8bc33",
   "metadata": {},
   "outputs": [],
   "source": [
    "class Troops:\n",
    "    \n",
    "    def __init__(self):\n",
    "        self.power\n",
    "        self.owner\n",
    "    \n",
    "    def attack(reg1, reg2):\n",
    "        if not adjacent(reg1,reg2):\n",
    "            print('countries ara not addjacent to each other')\n",
    "            return False\n",
    "        \n",
    "              \n",
    "        "
   ]
  },
  {
   "cell_type": "code",
   "execution_count": null,
   "id": "52c282fd",
   "metadata": {},
   "outputs": [],
   "source": [
    "class HumanPlayer:\n",
    "    \n",
    "    def __init__(self):\n",
    "        self.name\n",
    "        \n",
    "    def select():\n",
    "        while True:\n",
    "            selection = input('select a country(by alias) where your troops ara stationed')\n",
    "            if Regions.getAlias(selection,listobj) != False:\n",
    "                regSelected = Regions.getAlias(selection,listobj)\n",
    "                break\n",
    "            \n",
    "        if regSelected.isControlled == self.name:\n",
    "            \n",
    "            \n",
    "        \n",
    "        \n",
    "        \n",
    "        \n",
    "    "
   ]
  }
 ],
 "metadata": {
  "kernelspec": {
   "display_name": "Python 3 (ipykernel)",
   "language": "python",
   "name": "python3"
  },
  "language_info": {
   "codemirror_mode": {
    "name": "ipython",
    "version": 3
   },
   "file_extension": ".py",
   "mimetype": "text/x-python",
   "name": "python",
   "nbconvert_exporter": "python",
   "pygments_lexer": "ipython3",
   "version": "3.9.7"
  }
 },
 "nbformat": 4,
 "nbformat_minor": 5
}
